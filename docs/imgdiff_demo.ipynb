{
 "cells": [
  {
   "cell_type": "markdown",
   "id": "18a3d8ee-4cd4-4f8c-9cc8-cb86d0e588e9",
   "metadata": {},
   "source": [
    "## A demo to perform image differencing with TransFinder"
   ]
  },
  {
   "cell_type": "markdown",
   "id": "2caa0a6a-e9ec-48cf-847b-b8cfe409a523",
   "metadata": {},
   "source": [
    "## Install TransFinder through terminal\n",
    "* Download the package: git clone https://github.com/LiuDezi/TransFinder.git\n",
    "* Enter TransFinder dorectory: cd TransFinder\n",
    "* Install: python -m pip install ."
   ]
  },
  {
   "cell_type": "code",
   "execution_count": null,
   "id": "b5a7ad7b-da98-4fbf-aed1-f6d7c8c177eb",
   "metadata": {},
   "outputs": [],
   "source": [
    "# import necessary modules\n",
    "from transfinder import imgdiff\n",
    "from astropy.table import Table\n",
    "import numpy as np\n",
    "import os, sys, time"
   ]
  },
  {
   "cell_type": "code",
   "execution_count": null,
   "id": "33d25757-cc4c-425f-a2f2-fa5dffdd3885",
   "metadata": {},
   "outputs": [],
   "source": [
    "# define the input\n",
    "input_path = \"/Users/dzliu/Workspace/TransFinder/tests/input\"\n",
    "output_path = \"/Users/dzliu/Workspace/TransFinder/tests/output\"\n",
    "config_path = \"/Users/dzliu/Workspace/TransFinder/config\"\n",
    "\n",
    "# input images\n",
    "ref_image = \"my_sc_tm33-07_r_20240128133113_022_sciimg.ref.fits\"\n",
    "sci_image = \"my_sc_tm33-02_r_20240120141109_094_sciimg.fits\"\n",
    "ref_image_abs = os.path.join(input_path, ref_image)\n",
    "sci_image_abs = os.path.join(input_path, sci_image)\n",
    "\n",
    "# input swarp and sextractor configurations\n",
    "sex_config_file = os.path.join(config_path, \"default_config.sex\")\n",
    "sex_param_file = os.path.join(config_path, \"default_param.sex\")\n",
    "swarp_config_file = os.path.join(config_path, \"default_config.swarp\")\n",
    "swarp_exe = imgdiff.swarp_shell()\n",
    "sex_exe = imgdiff.sextractor_shell()\n",
    "\n",
    "survey_mode = \"mephisto_pilot\"\n",
    "\n",
    "# output images\n",
    "new_image = sci_image[:-4] + \"new.fits\"\n",
    "diff_image = new_image[:-4] + \"diff.fits\"\n",
    "new_image_abs = os.path.join(output_path, new_image)\n",
    "diff_image_abs = os.path.join(output_path, diff_image)"
   ]
  },
  {
   "cell_type": "code",
   "execution_count": null,
   "id": "dce73c54-c920-4a9a-a4a0-bf9b0b10c943",
   "metadata": {},
   "outputs": [],
   "source": [
    "# build new image\n",
    "t0 = time.time()\n",
    "photcal_fig = os.path.join(output_path, \"photcal.png\")\n",
    "imgdiff.build_newimg(sci_image_abs, new_image_abs, swarp_config_file, sex_config_file, sex_param_file,\n",
    "                     swarp_exe = swarp_exe, sex_exe = sex_exe, survey_mode=survey_mode,\n",
    "                     ref_image = ref_image_abs, ref_meta = None,\n",
    "                     interp_badpixel_mode = \"interp\", interp_badpixel_grid = (100,100), interp_badpixel_flag = None, \n",
    "                     photcal_figure=photcal_fig,)\n",
    "t1 = time.time()\n",
    "dt = t1-t0\n",
    "print(f\"^_^ Total {dt} seconds used\")"
   ]
  },
  {
   "cell_type": "code",
   "execution_count": null,
   "id": "dd8d64c3-ef32-416c-a165-54824f114dfd",
   "metadata": {},
   "outputs": [],
   "source": [
    "# construct psf models for both reference and new images\n",
    "t0 = time.time()\n",
    "ref_meta = imgdiff.LoadMeta(ref_image_abs)\n",
    "ref_mask = imgdiff.MaskStar(ref_meta,scale=1.5)\n",
    "new_meta = imgdiff.LoadMeta(new_image_abs)\n",
    "new_mask = imgdiff.MaskStar(new_meta,scale=1.5)\n",
    "\n",
    "psf_size = np.max([ref_meta.psf_size, new_meta.psf_size])\n",
    "psf_size = 31\n",
    "print(f\"    Input PSF size: (x_size, y_size)=({psf_size}, {psf_size})\")\n",
    "\n",
    "ref_psf_star_meta = imgdiff.PSFStar(ref_meta, psf_size=psf_size, nstar_max=500)\n",
    "ref_psf_model = imgdiff.PSFModel(ref_psf_star_meta, ref_meta, info_frac=0.99, nbasis_max=3, poly_degree=3)\n",
    "ref_psf_model.psf_model_diagnosis(ref_psf_star_meta, output_path=output_path, output_prefix=ref_image[:-5])\n",
    "\n",
    "new_psf_star_meta = imgdiff.PSFStar(new_meta, psf_size=psf_size, nstar_max=500)\n",
    "new_psf_model = imgdiff.PSFModel(new_psf_star_meta, new_meta, info_frac=0.99, nbasis_max=3, poly_degree=3)\n",
    "new_psf_model.psf_model_diagnosis(new_psf_star_meta, output_path=output_path, output_prefix=new_image[:-5])\n",
    "t1 = time.time()\n",
    "dt = t1-t0\n",
    "print(f\"^_^ Total {dt} seconds used\")"
   ]
  },
  {
   "cell_type": "code",
   "execution_count": null,
   "id": "8e3a47ff-375b-4289-a92d-42c5f9d3a624",
   "metadata": {},
   "outputs": [],
   "source": [
    "# perform image differencing\n",
    "t0 = time.time()\n",
    "ng, dt, udt = [], [], []\n",
    "for i in range(0, 50):\n",
    "    ingrid = i + 1\n",
    "    idt = []\n",
    "    for j in range(20):\n",
    "        t0 = time.time()\n",
    "        diff_obj = imgdiff.DiffImg(degrid=(ingrid,ingrid), nthreads=-1)\n",
    "        diff_matrix = diff_obj.diff(ref_meta, new_meta, ref_psf_model, new_psf_model,ref_mask=ref_mask.mask, new_mask=new_mask.mask)\n",
    "        t1 = time.time()\n",
    "        jdt = t1-t0\n",
    "        idt.append(jdt)\n",
    "    dt.append(np.mean(idt))\n",
    "    udt.append(np.std(idt))\n",
    "    ng.append(ingrid)\n",
    "    print(f\"^_^ N={ingrid}: {dt[-1]}+/-{udt[-1]} seconds on average used\")"
   ]
  },
  {
   "cell_type": "code",
   "execution_count": null,
   "id": "e42c5416-a6d2-4f6f-bd20-3e04d0cdeb6d",
   "metadata": {
    "scrolled": true
   },
   "outputs": [],
   "source": [
    "import pylab as pl\n",
    "pl.plot(ng, dt, \"--\", color=\"black\", ms=3)\n",
    "pl.xlabel(\"number of grids\")\n",
    "pl.ylabel(\"running time (seconds)\")"
   ]
  },
  {
   "cell_type": "code",
   "execution_count": null,
   "id": "1ae18a30-692b-4372-a7f2-2aeac42cf308",
   "metadata": {},
   "outputs": [],
   "source": [
    "# perform source detection on the difference image\n",
    "t0 = time.time()\n",
    "det_obj = imgdiff.ExtractTrans(sex_config_file, sex_param_file, sex_exe=sex_exe,)\n",
    "det_obj.extract_trans(diff_image_abs, diff_matrix, ref_meta, new_meta, cutout_write=True, cutout_path=output_path)\n",
    "t1 = time.time()\n",
    "dt = t1-t0\n",
    "print(f\"^_^ Total {dt} seconds used\")"
   ]
  },
  {
   "cell_type": "code",
   "execution_count": null,
   "id": "942b160e-6011-4498-a890-1537e301303d",
   "metadata": {},
   "outputs": [],
   "source": []
  }
 ],
 "metadata": {
  "kernelspec": {
   "display_name": "Python 3 (ipykernel)",
   "language": "python",
   "name": "python3"
  },
  "language_info": {
   "codemirror_mode": {
    "name": "ipython",
    "version": 3
   },
   "file_extension": ".py",
   "mimetype": "text/x-python",
   "name": "python",
   "nbconvert_exporter": "python",
   "pygments_lexer": "ipython3",
   "version": "3.11.5"
  }
 },
 "nbformat": 4,
 "nbformat_minor": 5
}
